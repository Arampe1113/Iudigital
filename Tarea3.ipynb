{
  "nbformat": 4,
  "nbformat_minor": 0,
  "metadata": {
    "colab": {
      "provenance": []
    },
    "kernelspec": {
      "name": "python3",
      "display_name": "Python 3"
    },
    "language_info": {
      "name": "python"
    }
  },
  "cells": [
    {
      "cell_type": "markdown",
      "source": [
        "<div align=\"left\">\n",
        "<p><img alt=\"IUDigital\" height=\"140px\" src=\"https://www.iudigital.edu.co/Style%20Library/images/logo-escudo.png\" align=\"left\" hspace=\"10px\" vspace=\"0px\"></p></div>\n",
        "<div> </div>\n",
        "<div align=\"right\">\n",
        "<p><img alt=\"Posgrado\" height=\"140px\" src=\"https://www.iudigital.edu.co/OfertaEducativa/PublishingImages/Paginas/Tecnologia-en-Desarrollo-de-Software/19072021_Tecnologia_Dllo_Software_1200px.jpg\" align=\"right\" hspace=\"10px\" vspace=\"10px\"></p></div>\n",
        "<br></br>\n",
        "<br></br>\n",
        "<br></br>\n",
        "<br></br>\n",
        "<p>\n",
        "<h1> <b> Pensamiento Algorítmico </b> </h1>\n",
        "<hr size=10 noshade color=\"red\">\n",
        "</p>\n",
        "<p>\n",
        "<img alt=\"CC\" height=\"70px\" src=\"https://creativecommons.org/images/deed/cc_blue_x2.png\" align=\"left\" hspace=\"0px\" vspace=\"0px\">\n",
        "<img alt=\"Attribution\" height=\"70px\" src=\"https://creativecommons.org/images/deed/attribution_icon_blue_x2.png\" align=\"left\" hspace=\"0px\" vspace=\"0px\">\n",
        "<img alt=\"NC\" height=\"70px\" src=\"https://creativecommons.org/images/deed/nc_blue_x2.png\" align=\"left\" hspace=\"0px\" vspace=\"0px\">\n",
        "<img alt=\"SA\" height=\"70px\" src=\"https://creativecommons.org/images/deed/sa_blue_x2.png\" align=\"left\" hspace=\"0px\" vspace=\"0px\">\n",
        "</p>\n",
        "\n",
        "<br>"
      ],
      "metadata": {
        "id": "VuipZbrNx6G9"
      }
    },
    {
      "cell_type": "markdown",
      "source": [],
      "metadata": {
        "id": "eN3V4QQYX1NE"
      }
    },
    {
      "cell_type": "markdown",
      "metadata": {
        "id": "e_PbyKmWX2K_"
      },
      "source": [
        "# **Estudiantes:**\n",
        "\n",
        "> ## Enliste a continuación los nombres de los estudiantes que conformaron el grupo\n",
        "\n",
        "1. Nombre completo:\n",
        "2. Nombre completo:\n",
        "3. Nombre completo:\n",
        "4. Nombre completo:"
      ]
    },
    {
      "cell_type": "markdown",
      "metadata": {
        "id": "Pm5smIuSNTUw"
      },
      "source": [
        "# **Tarea 3**\n",
        "\n",
        "> ## Ciclos (estructuras repetitivas) y colecciones de Python.\n",
        "\n",
        "Antes de resolver los ejercicios de esta tarea es importante:\n",
        "\n",
        "1. Haber asistido de manera sincrónica o haber visto las grabaciones de todas las clases y AAA de las semanas 1 a 6.\n",
        "2. Leer toda la Unidad 1 de los módulos en Canvas y la Unidad 2 por lo menos hasta el módulo: *Estructuras de almacenamiento. Métodos de Conjuntos*\n",
        "3. Leer e interactuar con los cuadernos de práctica 1 a 5, disponibles en el Google Classroom y en el material complementario de Canvas."
      ]
    },
    {
      "cell_type": "markdown",
      "source": [
        "## (20%) Ejercicio 1\n",
        "\n",
        "Una función en la mayoría de los casos describe un comportamiento que permite identificar puntos en donde se dé respuesta a un interrogante, estos puntos generalmente son los máximos y mínimos de la función y dan solución a los problemas planteados. La función detallada a continuación describe el comportamiento de un material para su temperatura (eje `y`) a lo largo del tiempo (eje `x`):\n",
        "\n",
        "$f(x)=x^4-8x^2+3$\n",
        "\n",
        "La gráfica de la función es la siguiente:\n",
        "\n",
        "<img alt=\"Funcion\" height=\"200px\" src=\"https://raw.githubusercontent.com/juliancastillo-iudigital/Varios/main/fx.png\" align=\"left\" hspace=\"10px\" vspace=\"0px\">\n",
        "\n",
        "\n",
        "Para el presente ejercicio se debe crear un ciclo que recorra los valores de `x` con una precisión del `0.001` en el espacio comprendido entre -3 y 3, incluídos ambos límites: `[-3, 3]`. Se deben almacenar en una lista o diccionario los valores tanto de `x` como de `y`. Finalmente, con ayuda de condicionales, hay que buscar los puntos resaltados en rojo en la gráfica (con sus respectivos valores en `x` y `y`, los cuales corresponden a un máximo local y a dos mínimos.\n",
        "\n",
        "**Nota**: no se permite el uso de funciones `max` o `min` de las `Built-in functions` o el uso de cualquier librería que tenga los mismos fines. Tampoco se permite encontrar los valores máximos y mínimos usando derivadas o integrales, aunque queda como opción para verificar los resultados obtenidos con los ciclos.\n",
        "\n"
      ],
      "metadata": {
        "id": "udlUW2Sle_Nx"
      }
    },
    {
      "cell_type": "code",
      "source": [
        "# Desarrolle su ejercicio aquí.\n"
      ],
      "metadata": {
        "id": "i_xU_ALyfCWx"
      },
      "execution_count": null,
      "outputs": []
    },
    {
      "cell_type": "markdown",
      "source": [
        "# (20%) Ejercicio 2\n",
        "\n",
        "La tienda de videojuegos “MeroGamers” ofrece descuentos a sus compradores de acuerdo con la consola y la cantidad de videojuegos comprados.\n",
        "La tienda vende juegos nuevos para tres consolas con sus respectivos precios en dólares (USD)\n",
        "\n",
        "*   Nintendo Switch\n",
        ">*   Valor juego \\$60USD\n",
        ">*   Cantidad disponible en inventario: 250 unidades\n",
        "*   Xbox Series X|S\n",
        ">*   Valor juego \\$60USD\n",
        ">*   Cantidad disponible en inventario: 103 unidades\n",
        "*   Play Station 5\n",
        ">*   Valor juego \\$70USD\n",
        ">*   Cantidad disponible en inventario: 300 unidades\n",
        "\n",
        "La tienda ofrece descuentos de acuerdo con los siguientes criterios.\n",
        "\n",
        "*   Descuento del 10%\n",
        ">*   La tienda ofrece un descuento del 10% si compra dos juegos de cualquier consola o dos juegos de diferente consola.\n",
        "*   Descuento del 20%\n",
        ">*   La tienda ofrece un descuento del 20% si sucede alguna de las siguientes opciones:\n",
        ">>*   Compra tres juegos de una única consola cualquiera.\n",
        ">>*   Compra dos juegos de una misma consola y uno de otra consola diferente.\n",
        "*   Descuento del 30%\n",
        ">*   La tienda ofrece un descuento del 30% si realiza compras superiores a \\$250 USD, pero debe comprar juegos de al menos dos consolas.\n",
        "*   Descuento del 40%\n",
        ">*   La tienda ofrece un descuento del 40% si realiza compras superiores a \\$2500 USD sin limitaciones.\n",
        "\n",
        "\n",
        "Realizar un algoritmo el cual  permita, mediante el uso de la función ```input()``` , ciclos y condicionales:\n",
        "\n",
        "* Darle la opción al usuario de escoger si es administrador o comprador al momento de hacer *login*.\n",
        "* Solicitarle la contraseña si es administrador, y verificar que sea la correcta.\n",
        "\n",
        "En caso de que el usuario sea administrador e ingrese correctamente es necesario:\n",
        "* Ofrecerle un menú mediante el cual decida si quiere cambiar la cantidad de consolas de cada juego disponibles en inventario o si prefiere cambiar los precios de algún juego.\n",
        "* Después de que ha decidido la modificación que desea realizar, el administrador podrá escoger a cuál de las consolas le desea modificar el atributo (ya sea precio de videojuego o cantidad de videojuegos). El administrador sólo puede realizar una modificación en cada intento.\n",
        "* Imprimir en pantalla si la modificación se ha realizado con éxito o no.\n",
        "\n",
        "Por otra parte, si el usuario es comprador deberá poder ingresar la cantidad de juegos comprados de cada consola, escogiendo de cuál consola si compró juegos. Luego deberás:\n",
        "* Determinar la cantidad de juegos comprados\n",
        "* Calcular el valor total antes de descuento y sin iva\n",
        "* Calcular el valor del descuento\n",
        "* Adicionar un IVA de un 19% al monto total de la compra después de haber adicionado el descuento.\n",
        "* Imprimir los resultados para que el usuario vea un resumen. Esta impresión debe ser multilínea usando caracteres especiales.\n",
        "\n",
        "\n",
        "\n",
        "**Importante:** Una vez terminado el intento del usuario o administrador, se debe hacer un \"cierre de sesión\" y se le debe preguntar si desea hacer un nuevo *login* o si prefiere terminar la ejecución.\n",
        "\n",
        "Usa diccionarios o listas para almacenar la información, ya que cuando se realice una compra o cuando el administrador actualice el inventario o los precios, estos cambios deben verse reflejados en el siguiente *login*.\n"
      ],
      "metadata": {
        "id": "DcMoHWegYPDU"
      }
    },
    {
      "cell_type": "code",
      "source": [
        "# Desarrolle su ejercicio aquí.\n"
      ],
      "metadata": {
        "id": "V7X_STJwdm67"
      },
      "execution_count": null,
      "outputs": []
    },
    {
      "cell_type": "markdown",
      "source": [
        "## (20%) Ejercicio 3\n",
        "\n",
        "### El juego HuyPues\n",
        "Para jugarlo, los participantes se sientan en un círculo. El jugador designado para ir primero dice el número \"1\", y luego los jugadores siguientes en orden de las manecillas del reloj cuentan hacia arriba por turnos.\n",
        "\n",
        "Sin embargo, cualquier número divisible por tres se reemplaza por la palabra “Huy” y cualquier número divisible por cinco por la palabra “Pues”. Los números divisibles por tres y cinco se convierten en un “HuyPues”. Un jugador que duda o comete un error es eliminado.\n",
        "\n",
        "Por ejemplo, una ronda típica de “HuyPues” comenzaría de la siguiente manera:\n",
        "1, 2, Huy, 4, Pues, Huy, 7, 8, Huy, Pues, 11, Huy, 13, 14, HuyPues, 16, 17, Huy, 19, Pues, Huy,…,n\n",
        "\n",
        "Realiza un algoritmo que permita, mediante ciclos, realizar el juego “HuyPues” para una cantidad cualquiera **n** de iteraciones."
      ],
      "metadata": {
        "id": "satWlEw6aH19"
      }
    },
    {
      "cell_type": "code",
      "execution_count": null,
      "metadata": {
        "id": "39VGcZwPxwFu"
      },
      "outputs": [],
      "source": [
        "# Desarrolle su ejercicio aquí.\n"
      ]
    },
    {
      "cell_type": "markdown",
      "source": [
        "# (20%) Ejercicio 4\n",
        "\n",
        "Al final del bloque completaremos un programa que permita calcular la calificación final de un curso de acuerdo al porcentaje de ponderación y a la calificación obtenida en cada tarea.\n",
        "\n",
        "En este ejercicio debes solicitar al usuario, con la función ```input()```, la cantidad de tareas que tiene la asignatura, luego solicita las ponderaciones de cada tarea, así como la calificación obtenida y el nombre de cada tarea.\n",
        "\n",
        "Analiza en qué tipo de arreglo es mas conveniente almacenar la información para calcular la calificación global del curso y presentar un resumen del desempeño del usuario. Recuerda usar bucles para hacer más eficiente el algoritmo."
      ],
      "metadata": {
        "id": "Lv7Roq3mduYJ"
      }
    },
    {
      "cell_type": "code",
      "source": [
        "# Desarrolle su ejercicio aquí.\n",
        "% modulo"
      ],
      "metadata": {
        "id": "KXXG9ocLdtwy"
      },
      "execution_count": null,
      "outputs": []
    },
    {
      "cell_type": "markdown",
      "source": [
        "# (20%) Video\n",
        "\n",
        "Realiza un video donde se explique detalladamente la realización de los ejercicios, el video se debe de guardar en google drive o YouTube y compartir mediante enlace, en el caso de drive recordar dar permisos de visualización a la cuenta de correo institucional del docente."
      ],
      "metadata": {
        "id": "uul4-Wkpan68"
      }
    },
    {
      "cell_type": "markdown",
      "source": [
        "[Ubica aquí el enlace a tu video](https://)"
      ],
      "metadata": {
        "id": "oGDXSfeWao8D"
      }
    }
  ]
}